{
  "nbformat": 4,
  "nbformat_minor": 0,
  "metadata": {
    "colab": {
      "provenance": []
    },
    "kernelspec": {
      "name": "python3",
      "display_name": "Python 3"
    },
    "language_info": {
      "name": "python"
    }
  },
  "cells": [
    {
      "cell_type": "markdown",
      "source": [
        "1) Suponga $v^1, \\dots, v^m \\in \\mathbb{R}^n$ y $G\\in \\mathbb{R}^{m \\times m}$ tal que $g_{ij} = (v^i)^T v^j$. Muestre que $G$ es definida positiva si y sólo si $v^1, \\dots, v^m$ son linealmente independientes"
      ],
      "metadata": {
        "id": "GxI-nsbBl-fJ"
      }
    },
    {
      "cell_type": "markdown",
      "source": [
        "- Si $x \\ne 0$, $x^T G x > 0$.\n",
        "- $V = [v_1, v_2, ..., v_m]$ => $V^T V = G$\n",
        "- $x^T G x = (x^T V^T) (V x) = 0$ <=> $Vx = 0$"
      ],
      "metadata": {
        "id": "xB-UBtQOmOn8"
      }
    },
    {
      "cell_type": "markdown",
      "source": [
        "2) Demuestre que, dados $x, y \\in \\mathbb{R}^n$, se cumple que $\\|x y^T\\|_F = \\|x y^T\\|_2 = \\|x\\|_2 \\|y\\|_2$"
      ],
      "metadata": {
        "id": "8XjkadKJnxN2"
      }
    },
    {
      "cell_type": "markdown",
      "source": [
        "$\\| x y^T \\|_F^2 = tr((xy^T)^T (xy^T)) = tr(y (x^T x) y^T) = (x^T x) tr(yy^T)$\n",
        "\n",
        "$ = \\|x\\|_2^2 tr(y y^T) = \\|x\\|_2^2 \\sum_{i=1}^n y_i^2 = \\|x\\|_2^2\\|y\\|_2^2$\n",
        "\n",
        "$\\| x y^T \\|_2 = \\max_{\\|v\\|_2 = 1} \\|(x y^t) v\\|_2 = \\max_{\\|v\\|_2 = 1} \\|x (y^t v)\\|_2$\n",
        "\n",
        "$(y^t v)$ alcanza su máximo valor absoluto en la dirección de y, entonces puedo usar $v = \\frac{y}{\\|y\\|_2}$\n",
        "\n",
        "$\\max_{\\|v\\|_2 = 1} \\|x (y^t v)\\|_2 = \\|x (y^t \\frac{y}{\\|y\\|_2})\\|_2 = \\frac{y^ty}{\\|y\\|_2} \\|x\\|_2  = \\|y\\|_2 \\|x\\|_2 $"
      ],
      "metadata": {
        "id": "5qo-OcrhoH6w"
      }
    },
    {
      "cell_type": "markdown",
      "source": [
        "3) Suponga que quiere resolver un sistema de la forma $A^k x=b$.\n",
        "Dar una estimación del número de operaciones si:\n",
        "\n",
        "i) Calcula $C=A^k$ y luego mediante $LU$ resuelve $Cx=b$.\n",
        "\n",
        "ii) Utiliza $LU$ de $A$ y evita la multiplicación matricial.\n",
        "\n",
        "iii) Programar ii) para el siguiente caso:\n",
        "$k=3$\n",
        "\n",
        "$$A=\\left(%\n",
        "\\begin{array}{ccccc}\n",
        "2 & -1 & 0 & 0 & 0 \\\\\n",
        "-1& 2 & -1 & 0 & 0 \\\\\n",
        "0& -1 & 2 & -1 & 0 \\\\\n",
        "0 & 0 & -1& 2 & -1 \\\\\n",
        "0 & 0 & 0 & -1 & 2 \\\\\n",
        "\\end{array}%\n",
        "\\right)$$\n",
        "\n",
        "$$b=\\left(%\n",
        "\\begin{array}{c}\n",
        "0 \\\\\n",
        "0 \\\\\n",
        "6 \\\\\n",
        "-24 \\\\\n",
        "30 \\\\\n",
        "\\end{array}%\n",
        "\\right)$$\n"
      ],
      "metadata": {
        "id": "qN_qnbk8rIZa"
      }
    },
    {
      "cell_type": "markdown",
      "source": [
        "$A^2 = A A$"
      ],
      "metadata": {
        "id": "YB8ByVwRrV5A"
      }
    },
    {
      "cell_type": "markdown",
      "source": [
        "i) $C = A^k$, A.A requiere $2n^3$ operaciones => $A^k$ requiere $(k-1) 2n^3$ operaciones.\n",
        "\n",
        "$LU(A^k)$ requiere $(2/3) n^3$\n",
        "\n",
        "Resolver el sistema lineal $LUx = b$ requiere O(2 n^2)\n",
        "\n",
        "Total: $(k-2/3) 2n^3$ "
      ],
      "metadata": {
        "id": "bj7Ttumdrl5m"
      }
    },
    {
      "cell_type": "markdown",
      "source": [
        "ii) $LU(A)$ requiere $(2/3) n^3$\n",
        "\n",
        "$A A A x = b = LU LU LU x = b$ \n",
        "\n",
        "Resolver 2k sistemas lineales triangulares: $2kn^2$ (k puede ser comparable con n, entonces no debería desestimarlo)\n",
        "\n",
        "Total: $2kn^2 + (2/3) n^3$"
      ],
      "metadata": {
        "id": "-HZYezVTsoK0"
      }
    },
    {
      "cell_type": "code",
      "execution_count": 4,
      "metadata": {
        "id": "wq693QVMkeKu"
      },
      "outputs": [],
      "source": [
        "def resolver_sistema(A, k, b):\n",
        "    L, U = dlu(A)\n",
        "    x = b.copy()\n",
        "    for it in range(k):\n",
        "        x = soltrinf(L, x)\n",
        "        x = soltrsup(U, x)\n",
        "\n",
        "    return x"
      ]
    },
    {
      "cell_type": "code",
      "source": [],
      "metadata": {
        "id": "CZF7-0iRymDJ"
      },
      "execution_count": null,
      "outputs": []
    }
  ]
}