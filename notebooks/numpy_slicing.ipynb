{
 "cells": [
  {
   "cell_type": "markdown",
   "metadata": {},
   "source": [
    "## Slicing en Numpy\n",
    "\n",
    "Pueden seguir esta notebook en Colab, haciendo clic abajo:\n",
    "\n",
    "<a href=\"https://colab.research.google.com/github/lbiedma/an2famaf2022/blob/main/notebooks/numpy_slicing.ipynb\" target=\"_parent\"><img src=\"https://colab.research.google.com/assets/colab-badge.svg\" alt=\"Open In Colab\"/></a>\n",
    "\n",
    "Para este cuatrimestre, uno de nuestros objetivos es aprovechar el poder de algunas de las funcionalidades internas que trae la librería Numpy, que hacen más rápido el cálculo de las operaciones más básicas del álgebra lineal (sumas y multiplicaciones de matrices y vectores).\n",
    "\n",
    "Si quieren conocer más sobre el tema, la necesidad de hacer álgebra lineal numérica rápida viene desde hace una buena cantidad de tiempo y LA librería por excelencia para hacer eso es [BLAS](http://www.netlib.org/blas/). Numpy provee su implementación de las funciones de esta librería, descargándola de forma automática cuando es instalada.\n",
    "\n",
    "Si queremos aprovechar el poder de estas librerías, es necesario reducir la cantidad de bucles que usamos en nuestros cálculos y comenzar a realizar operaciones en bloques o rebanadas de matrices y vectores."
   ]
  },
  {
   "cell_type": "code",
   "execution_count": null,
   "metadata": {},
   "outputs": [],
   "source": [
    "# Como siempre, importemos la librería y definamos algunos elementos de ejemplo\n",
    "import numpy as np\n",
    "# Recordemos agregar el dtype si vamos a trabajar con flotantes\n",
    "matriz = np.array(range(36), dtype=float).reshape((6, 6))\n",
    "vector = np.array(range(6), dtype=float)\n",
    "\n",
    "print(\"matriz = \\n\", matriz)\n",
    "print(\"vector = \\n\", vector)"
   ]
  },
  {
   "cell_type": "markdown",
   "metadata": {},
   "source": [
    "### Obtener todos los elementos del vector HASTA (sin contar a) N"
   ]
  },
  {
   "cell_type": "code",
   "execution_count": null,
   "metadata": {},
   "outputs": [],
   "source": [
    "N = 4\n",
    "print(vector[:N])"
   ]
  },
  {
   "cell_type": "markdown",
   "metadata": {},
   "source": [
    "### Obtener todos los elementos del vector DESDE N"
   ]
  },
  {
   "cell_type": "code",
   "execution_count": null,
   "metadata": {},
   "outputs": [],
   "source": [
    "print(vector[N:])"
   ]
  },
  {
   "cell_type": "markdown",
   "metadata": {},
   "source": [
    "### Obtener todos los elementos del vector DESDE M HASTA (sin contar a) N"
   ]
  },
  {
   "cell_type": "code",
   "execution_count": null,
   "metadata": {},
   "outputs": [],
   "source": [
    "M = 2\n",
    "print(vector[M:N])"
   ]
  },
  {
   "cell_type": "markdown",
   "metadata": {},
   "source": [
    "### Es posible usar índices negativos, lo cual puede ser de utilidad en algunos casos.\n",
    "Por ejemplo si queremos llegar al anteúltimo elemento usamos '-1'"
   ]
  },
  {
   "cell_type": "code",
   "execution_count": null,
   "metadata": {},
   "outputs": [],
   "source": [
    "print(vector[:-1])"
   ]
  },
  {
   "cell_type": "markdown",
   "metadata": {},
   "source": [
    "### Obtener los elementos del vector al revés, o una parte al revés\n",
    "El primer ':' separa entre principio y fin, el segundo ':' indica cómo avanzar"
   ]
  },
  {
   "cell_type": "code",
   "execution_count": null,
   "metadata": {},
   "outputs": [],
   "source": [
    "print(vector[::-1])\n",
    "print(vector[N:M:-1])"
   ]
  },
  {
   "cell_type": "markdown",
   "metadata": {},
   "source": [
    "### Podemos obtener los elementos de acuerdo a un índice que definamos como una lista de Python"
   ]
  },
  {
   "cell_type": "code",
   "execution_count": null,
   "metadata": {},
   "outputs": [],
   "source": [
    "indice = [2, 0, 3, 4]\n",
    "print(vector[indice])"
   ]
  },
  {
   "cell_type": "markdown",
   "metadata": {},
   "source": [
    "### Podemos hacer lo mismo con matrices, tomando pedazos a través de cualquiera de sus ejes [filas, columnas].\n",
    "Recuerden que un índice desde 0 hasta 0 no nos va a dar un array vacío."
   ]
  },
  {
   "cell_type": "code",
   "execution_count": null,
   "metadata": {},
   "outputs": [],
   "source": [
    "for idx in range(7):\n",
    "    print(\"matriz hasta {}\".format(idx))\n",
    "    print(matriz[:idx, :idx])"
   ]
  },
  {
   "cell_type": "markdown",
   "metadata": {},
   "source": [
    "### La columna i-ésima de una matriz se consigue sin tocar la primera dimensión (usando ':')"
   ]
  },
  {
   "cell_type": "code",
   "execution_count": null,
   "metadata": {},
   "outputs": [],
   "source": [
    "print(matriz[:, 3])\n",
    "# NOTAR: Esto nos da un array de Numpy de una dimensión, no genera uno de dos dimensiones con sólo una columna."
   ]
  },
  {
   "cell_type": "markdown",
   "metadata": {},
   "source": [
    "### Nuevamente, podemos usar índices en todas las direcciones y combinarlos"
   ]
  },
  {
   "cell_type": "code",
   "execution_count": null,
   "metadata": {},
   "outputs": [],
   "source": [
    "indice_filas = [2, 4]\n",
    "print(matriz[np.array(indice_filas), :4])"
   ]
  },
  {
   "cell_type": "markdown",
   "metadata": {},
   "source": [
    "## Operaciones\n",
    "Veamos por qué es tan útil trabajar con las operaciones que vienen en las librerías de Numpy.\n",
    "\n",
    "Definamos una matriz bastante grande formada por números aleatorios con una distribución normal (esta matriz es inversible con probabilidad 1, por qué?). Vamos a definir también un vector al que podamos multiplicar por ella."
   ]
  },
  {
   "cell_type": "code",
   "execution_count": null,
   "metadata": {},
   "outputs": [],
   "source": [
    "import time\n",
    "# Si se pone muy lenta la máquina (problemas de memoria), pueden achicar un poco el número\n",
    "big_N = 10000\n",
    "big_matrix = np.random.random((big_N, big_N))\n",
    "big_vector = np.random.random(big_N)"
   ]
  },
  {
   "cell_type": "markdown",
   "metadata": {},
   "source": [
    "### Hagamos la multiplicación matriz - vector a manopla y veamos cuánto tiempo toma (vayan a armar el mate o algo...)"
   ]
  },
  {
   "cell_type": "code",
   "execution_count": null,
   "metadata": {},
   "outputs": [],
   "source": [
    "# Generamos un vector vacío\n",
    "resultado = np.empty(big_N)\n",
    "start = time.time()\n",
    "for fila in range(big_N):\n",
    "    resultado[fila] = 0.0\n",
    "    for columna in range(big_N):\n",
    "        resultado[fila] += big_matrix[fila, columna] * big_vector[columna];\n",
    "\n",
    "end = time.time()\n",
    "print(\"La operación tomó {} segundos\".format(end - start))"
   ]
  },
  {
   "cell_type": "markdown",
   "metadata": {},
   "source": [
    "### Qué pasa cuando lo hacemos usando @?"
   ]
  },
  {
   "cell_type": "code",
   "execution_count": null,
   "metadata": {},
   "outputs": [],
   "source": [
    "resultado = np.empty(big_N)\n",
    "start = time.time()\n",
    "resultado = big_matrix @ big_vector\n",
    "end = time.time()\n",
    "print(\"La operación tomó {} segundos\".format(end - start))"
   ]
  },
  {
   "cell_type": "markdown",
   "metadata": {},
   "source": [
    "### Quieren probar cuánto toma el producto matriz-matriz? Pueden ejecutar abajo, va a tardar demasiado tiempo\n",
    "(lo que haya tardado la versión anterior multiplicado por big_N...)"
   ]
  },
  {
   "cell_type": "code",
   "execution_count": null,
   "metadata": {},
   "outputs": [],
   "source": [
    "resultado = np.empty((big_N, big_N))\n",
    "start = time.time()\n",
    "for fila in range(big_N):\n",
    "    for columna in range(big_N):\n",
    "        resultado[fila, columna] = 0.0\n",
    "        for idx in range(big_N):\n",
    "                resultado[fila, columna] += big_matrix[fila, idx] * big_matrix[idx, columna]\n",
    "end = time.time()\n",
    "print(\"La operación tomó {} segundos\".format(end - start))"
   ]
  },
  {
   "cell_type": "code",
   "execution_count": null,
   "metadata": {},
   "outputs": [],
   "source": [
    "start = time.time()\n",
    "resultado = big_matrix @ big_matrix\n",
    "end = time.time()\n",
    "print(\"La operación tomó {} segundos\".format(end - start))"
   ]
  },
  {
   "cell_type": "markdown",
   "metadata": {},
   "source": [
    "## Solución de sistemas lineales\n",
    "Resolvamos un sistema triangular inferior también, usemos la función de Numérico I y luego slicing."
   ]
  },
  {
   "cell_type": "code",
   "execution_count": null,
   "metadata": {},
   "outputs": [],
   "source": [
    "def sol_trinf(A, b):\n",
    "    n = A.shape[0]\n",
    "    x = b.copy()\n",
    "    \n",
    "    for idx in range(n):\n",
    "        for jdx in range(idx):\n",
    "            x[idx] = x[idx] - A[idx, jdx] * x[jdx]\n",
    "        x[idx] = x[idx] / A[idx, idx]\n",
    "\n",
    "    return x"
   ]
  },
  {
   "cell_type": "code",
   "execution_count": null,
   "metadata": {},
   "outputs": [],
   "source": [
    "big_N = 50\n",
    "# Generamos una matriz random y la hacemos triangular inferior\n",
    "big_matrix = np.tril(np.random.random((big_N, big_N)))\n",
    "big_vector = np.random.random(big_N)\n",
    "start = time.time()\n",
    "x = sol_trinf(big_matrix, big_vector)\n",
    "end = time.time()\n",
    "print(\"La operación tomó {} segundos\".format(end - start))\n",
    "print(\"Estamos cerca de la solución? Norma de la resta: {}\".format(np.linalg.norm(big_matrix @ x - big_vector)))"
   ]
  },
  {
   "cell_type": "code",
   "execution_count": null,
   "metadata": {},
   "outputs": [],
   "source": [
    "# Probemos con slicing\n",
    "def sol_trinffil(A, b):\n",
    "    n = len(b)\n",
    "    x = b.copy()\n",
    "    for i in range(n):\n",
    "        x[i] = (b[i] - A[i, :i]@x[:i])/A[i,i]\n",
    "    return x"
   ]
  },
  {
   "cell_type": "code",
   "execution_count": null,
   "metadata": {},
   "outputs": [],
   "source": [
    "big_matrix = np.tril(np.random.random((big_N, big_N)))\n",
    "big_vector = np.random.random(big_N)\n",
    "start = time.time()\n",
    "x = sol_trinffil(big_matrix, big_vector)\n",
    "end = time.time()\n",
    "print(\"La operación tomó {} segundos\".format(end - start))\n",
    "print(\"Estamos cerca de la solución? Norma de la resta: {}\".format(np.linalg.norm(big_matrix @ x - big_vector)))"
   ]
  },
  {
   "cell_type": "markdown",
   "metadata": {},
   "source": [
    "## Usando Numpy para contrastar\n",
    "Vamos a empezar a usar pedazos de matrices y vectores para hacer algunas de las operaciones.\n",
    "Lo bueno es que Numpy (y/o Scipy) ya tiene su propia implementación de todos los métodos que vamos a usar este cuatrimestre, como las descomposiciones de Cholesky, LU o QR (Documentación en https://numpy.org/doc/stable/reference/routines.linalg.html). Podremos contrastar nuestro resultado con lo que dé ahí (no pretendan que nuestras funciones tarden menos que las de Numpy, porque usan [LAPACK](http://www.netlib.org/lapack/))"
   ]
  }
 ],
 "metadata": {
  "kernelspec": {
   "display_name": "Python 3.9.7 ('numerico')",
   "language": "python",
   "name": "python3"
  },
  "language_info": {
   "codemirror_mode": {
    "name": "ipython",
    "version": 3
   },
   "file_extension": ".py",
   "mimetype": "text/x-python",
   "name": "python",
   "nbconvert_exporter": "python",
   "pygments_lexer": "ipython3",
   "version": "3.9.7"
  },
  "vscode": {
   "interpreter": {
    "hash": "35e91f550e145e0890c97eaf1a6f28feea34eca83da62c005ca08ecf144b3ef2"
   }
  }
 },
 "nbformat": 4,
 "nbformat_minor": 4
}
